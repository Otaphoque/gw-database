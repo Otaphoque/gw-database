{
 "cells": [
  {
   "cell_type": "code",
   "execution_count": 116,
   "metadata": {},
   "outputs": [],
   "source": [
    "import pandas as pd\n",
    "import json"
   ]
  },
  {
   "cell_type": "code",
   "execution_count": 33,
   "metadata": {},
   "outputs": [],
   "source": [
    "\n",
    "df = pd.read_csv('/Users/constance/VisualStudioCode/CTF/Geekweek/Borealis1529\\ copy.csv')"
   ]
  },
  {
   "cell_type": "code",
   "execution_count": 117,
   "metadata": {},
   "outputs": [],
   "source": [
    "df[\"stonewall_decision\"] = \"\"\n",
    "df[\"stonewall_reason\"] = \"\"\n",
    "\n",
    "df[\"neustar_proxy_anonymizer_status\"] = \"\"\n",
    "df[\"neustar_proxy_type\"] = \"\"\n",
    "df[\"neustar_proxy_level\"] = \"\"\n",
    "df[\"neustar_proxy_last_detected\"] = \"\"\n",
    "df[\"neustar_vpn_service\"] = \"\"\n",
    "df[\"neustar_hosting_facility\"] = \"\"\n",
    "\n",
    "df[\"virustotal_malicious\"] = \"\"\n",
    "df[\"virustotal_undetected\"] = \"\"\n",
    "df[\"virustotal_suspicious\"] = \"\"\n",
    "df[\"virustotal_harmless\"] = \"\"\n",
    "df[\"virustotal_timeout\"] = \"\"\n",
    "\n",
    "df[\"porcupince\"] = \"\""
   ]
  },
  {
   "cell_type": "code",
   "execution_count": 118,
   "metadata": {},
   "outputs": [],
   "source": [
    "for index, row in df.iterrows():\n",
    "# for index in range(0,10) :\n",
    "    borealis = json.loads(df['Borealis'].iloc[index])\n",
    "\n",
    "    df.at[index, \"stonewall_decision\"] = borealis[\"modules\"][\"STONEWALL\"][\"decision\"]\n",
    "    df.at[index, \"stonewall_reason\"] = borealis[\"modules\"][\"STONEWALL\"][\"reason\"]\n",
    "    df.at[index, \"neustar_proxy_anonymizer_status\"] = borealis[\"modules\"][\"NEUSTAR\"][0][\"proxy\"][\"anonymizer_status\"]\n",
    "    df.at[index, \"neustar_proxy_type\"] = borealis[\"modules\"][\"NEUSTAR\"][0][\"proxy\"][\"proxy_type\"]\n",
    "    df.at[index, \"neustar_proxy_level\"] = borealis[\"modules\"][\"NEUSTAR\"][0][\"proxy\"][\"proxy_level\"]\n",
    "    df.at[index, \"neustar_proxy_last_detected\"] = borealis[\"modules\"][\"NEUSTAR\"][0][\"proxy\"].get(\"proxy_last_detected\", \"NA\")\n",
    "    df.at[index, \"neustar_vpn_service\"] = borealis[\"modules\"][\"NEUSTAR\"][0][\"proxy\"][\"vpn_service\"]\n",
    "    df.at[index, \"neustar_hosting_facility\"] = borealis[\"modules\"][\"NEUSTAR\"][0][\"proxy\"][\"hosting_facility\"]\n",
    "    df.at[index, \"virustotal_malicious\"] = borealis[\"modules\"][\"VIRUSTOTAL\"][\"avResults\"][\"malicious\"]\n",
    "    df.at[index, \"virustotal_undetected\"] = borealis[\"modules\"][\"VIRUSTOTAL\"][\"avResults\"][\"undetected\"]\n",
    "    df.at[index, \"virustotal_suspicious\"] = borealis[\"modules\"][\"VIRUSTOTAL\"][\"avResults\"][\"suspicious\"]\n",
    "    df.at[index, \"virustotal_harmless\"] = borealis[\"modules\"][\"VIRUSTOTAL\"][\"avResults\"][\"harmless\"]\n",
    "    df.at[index, \"virustotal_timeout\"] = borealis[\"modules\"][\"VIRUSTOTAL\"][\"avResults\"][\"timeout\"]\n",
    "    df.at[index, \"porcupince\"] = borealis[\"modules\"][\"PORCUPINE\"]"
   ]
  },
  {
   "cell_type": "code",
   "execution_count": 119,
   "metadata": {},
   "outputs": [
    {
     "name": "stdout",
     "output_type": "stream",
     "text": [
      "            clientIp                                           Borealis  \\\n",
      "0     54.151.116.170  {\"ips\":[\"54.151.116.170\"],\"results\":[{\"resolve...   \n",
      "1     37.120.194.174  {\"ips\":[\"37.120.194.174\"],\"results\":[{\"resolve...   \n",
      "2      94.232.47.158  {\"ips\":[\"94.232.47.158\"],\"results\":[{\"resolved...   \n",
      "3      82.102.19.110  {\"ips\":[\"82.102.19.110\"],\"results\":[{\"resolved...   \n",
      "4      194.165.16.73  {\"ips\":[\"194.165.16.73\"],\"results\":[{\"resolved...   \n",
      "...              ...                                                ...   \n",
      "1524   20.169.224.22  {\"ips\":[\"20.169.224.22\"],\"results\":[{\"resolved...   \n",
      "1525  20.108.249.190  {\"ips\":[\"20.108.249.190\"],\"results\":[{\"resolve...   \n",
      "1526  20.108.250.230  {\"ips\":[\"20.108.250.230\"],\"results\":[{\"resolve...   \n",
      "1527    20.29.85.155  {\"ips\":[\"20.29.85.155\"],\"results\":[{\"resolvedD...   \n",
      "1528   20.232.22.105  {\"ips\":[\"20.232.22.105\"],\"results\":[{\"resolved...   \n",
      "\n",
      "     stonewall_decision stonewall_reason neustar_proxy_anonymizer_status  \\\n",
      "0              REJECTED     WARNING_LIST                                   \n",
      "1              REJECTED     WARNING_LIST                         private   \n",
      "2              APPROVED               NA                                   \n",
      "3              REJECTED     WARNING_LIST                         private   \n",
      "4              APPROVED               NA                                   \n",
      "...                 ...              ...                             ...   \n",
      "1524           REJECTED     WARNING_LIST                                   \n",
      "1525           REJECTED     WARNING_LIST                                   \n",
      "1526           REJECTED     WARNING_LIST                                   \n",
      "1527           REJECTED     WARNING_LIST                                   \n",
      "1528           REJECTED     WARNING_LIST                                   \n",
      "\n",
      "     neustar_proxy_type neustar_proxy_level neustar_proxy_last_detected  \\\n",
      "0                                                                    NA   \n",
      "1               service               elite                  2023-10-07   \n",
      "2                                                                    NA   \n",
      "3               service               elite                  2023-10-07   \n",
      "4                                                                    NA   \n",
      "...                 ...                 ...                         ...   \n",
      "1524                                                                 NA   \n",
      "1525                                                                 NA   \n",
      "1526                                                                 NA   \n",
      "1527                                                                 NA   \n",
      "1528                                                                 NA   \n",
      "\n",
      "     neustar_vpn_service neustar_hosting_facility virustotal_malicious  \\\n",
      "0                                            true                    0   \n",
      "1               m247-ltd                     true                    3   \n",
      "2                                           false                    0   \n",
      "3               m247-ltd                     true                    1   \n",
      "4                                           false                   14   \n",
      "...                  ...                      ...                  ...   \n",
      "1524                                        false                    0   \n",
      "1525                                        false                    0   \n",
      "1526                                        false                    0   \n",
      "1527                                        false                    0   \n",
      "1528                                        false                    0   \n",
      "\n",
      "     virustotal_undetected virustotal_suspicious virustotal_harmless  \\\n",
      "0                       93                     0                   0   \n",
      "1                       28                     0                  62   \n",
      "2                       35                     0                  58   \n",
      "3                       27                     0                  65   \n",
      "4                       26                     1                  52   \n",
      "...                    ...                   ...                 ...   \n",
      "1524                    93                     0                   0   \n",
      "1525                    93                     0                   0   \n",
      "1526                    93                     0                   0   \n",
      "1527                    93                     0                   0   \n",
      "1528                    93                     0                   0   \n",
      "\n",
      "     virustotal_timeout porcupince  \n",
      "0                     0         []  \n",
      "1                     0         []  \n",
      "2                     0         []  \n",
      "3                     0         []  \n",
      "4                     0         []  \n",
      "...                 ...        ...  \n",
      "1524                  0         []  \n",
      "1525                  0         []  \n",
      "1526                  0         []  \n",
      "1527                  0         []  \n",
      "1528                  0         []  \n",
      "\n",
      "[1529 rows x 16 columns]\n"
     ]
    }
   ],
   "source": [
    "print(df)"
   ]
  }
 ],
 "metadata": {
  "kernelspec": {
   "display_name": "Python 3",
   "language": "python",
   "name": "python3"
  },
  "language_info": {
   "codemirror_mode": {
    "name": "ipython",
    "version": 3
   },
   "file_extension": ".py",
   "mimetype": "text/x-python",
   "name": "python",
   "nbconvert_exporter": "python",
   "pygments_lexer": "ipython3",
   "version": "3.12.3"
  }
 },
 "nbformat": 4,
 "nbformat_minor": 2
}
